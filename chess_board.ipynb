{
 "cells": [
  {
   "cell_type": "code",
   "execution_count": 91,
   "id": "717392b4-e009-4c35-a373-5d7310e8ff71",
   "metadata": {},
   "outputs": [
    {
     "data": {
      "image/png": "[encoded data removed]",
      "text/plain": [
       "<Figure size 432x288 with 1 Axes>"
      ]
     },
     "metadata": {
      "needs_background": "light"
     },
     "output_type": "display_data"
    }
   ],
   "source": [
    "%matplotlib inline\n",
    "import matplotlib.pyplot as plt\n",
    "import matplotlib.image as mpimg\n",
    "import numpy as np\n",
    "from random import random\n",
    "\n",
    "\n",
    "class ChessBoard:\n",
    "    white = [1,1,1]\n",
    "    blue = [0, 0, 1]\n",
    "    red = [1, 0, 0]\n",
    "    under_attak = False\n",
    "    \n",
    "    def __init__(self):\n",
    "        self.grid = np.zeros((8,8,3))\n",
    "        for x in np.ndindex(8,8):\n",
    "            if x[0]%2 != x[1]%2:\n",
    "                self.grid[x[0],x[1]] = ChessBoard.white\n",
    "\n",
    "    def add_red(self, row, col):\n",
    "        self.grid[row,col] = ChessBoard.red\n",
    "\n",
    "    def add_blue(self, row, col):\n",
    "        self.grid[row,col] = ChessBoard.blue\n",
    "        \n",
    "    def render(self):\n",
    "        plt.imshow(self.grid)\n",
    "        \n",
    "    def daigonal(self, red ,blue):\n",
    "        if abs(red[0]-blue[0]) == abs(red[1] - blue[1]):\n",
    "            return True\n",
    "       \n",
    "    def is_under_attack(self):\n",
    "        for x in np.ndindex(8,8):\n",
    "            \n",
    "            if int(self.grid[x[0],x[1]][0]) == ChessBoard.red[0] and int(self.grid[x[0],x[1]][1]) == ChessBoard.red[1] and int(self.grid[x[0],x[1]][2]) == ChessBoard.red[2]:\n",
    "                red = x\n",
    "                \n",
    "                \n",
    "            if int(self.grid[x[0],x[1]][0]) == ChessBoard.blue[0] and int(self.grid[x[0],x[1]][1]) == ChessBoard.blue[1] and int(self.grid[x[0],x[1]][2]) == ChessBoard.blue[2]:\n",
    "                blue = x\n",
    "                \n",
    "        diago = self.daigonal(red,blue) \n",
    "        \n",
    "        if diago :\n",
    "             return True  \n",
    "            \n",
    "        elif red[0] == blue[0]:\n",
    "             return True\n",
    "        \n",
    "        elif red[1] == blue[1]:\n",
    "             return True\n",
    "        \n",
    "        else:\n",
    "             return False\n",
    "    \n",
    "\n",
    "board=ChessBoard()\n",
    "def test_horizantal():\n",
    "    board.add_red(3,4)\n",
    "    board.add_blue(3,0)\n",
    "    assert board.is_under_attack() == True\n",
    "    \n",
    "def test_column():   \n",
    "    board.add_red(3,4)\n",
    "    board.add_blue(6,4)\n",
    "    assert board.is_under_attack() == True\n",
    "    \n",
    "def test_diagonal1():\n",
    "    board.add_red(3,4)\n",
    "    board.add_blue(5,2)\n",
    "    assert board.is_under_attack() == True\n",
    "    \n",
    "def test_not_attaked():\n",
    "    board.add_red(3,4)\n",
    "    board.add_blue(1,0)\n",
    "    assert board.is_under_attack() == False\n",
    "\n",
    "test_not_attaked()\n",
    "test_horizantal()\n",
    "test_column()\n",
    "test_diagonal1()\n",
    "\n",
    "\n",
    "board.render()\n"
   ]
  },
  {
   "cell_type": "code",
   "execution_count": null,
   "id": "6624f04d-babd-4223-aea3-e82c58360b92",
   "metadata": {},
   "outputs": [],
   "source": []
  }
 ],
 "metadata": {
  "kernelspec": {
   "display_name": "Python 3",
   "language": "python",
   "name": "python3"
  },
  "language_info": {
   "codemirror_mode": {
    "name": "ipython",
    "version": 3
   },
   "file_extension": ".py",
   "mimetype": "text/x-python",
   "name": "python",
   "nbconvert_exporter": "python",
   "pygments_lexer": "ipython3",
   "version": "3.9.4"
  }
 },
 "nbformat": 4,
 "nbformat_minor": 5
}
